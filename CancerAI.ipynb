{
  "nbformat": 4,
  "nbformat_minor": 0,
  "metadata": {
    "colab": {
      "provenance": [],
      "authorship_tag": "ABX9TyOCARgHt9Q3y7yWYFOg3Hvx",
      "include_colab_link": true
    },
    "kernelspec": {
      "name": "python3",
      "display_name": "Python 3"
    },
    "language_info": {
      "name": "python"
    }
  },
  "cells": [
    {
      "cell_type": "markdown",
      "metadata": {
        "id": "view-in-github",
        "colab_type": "text"
      },
      "source": [
        "<a href=\"https://colab.research.google.com/github/RakGreg/CancerDiagnosisAI/blob/main/CancerAI.ipynb\" target=\"_parent\"><img src=\"https://colab.research.google.com/assets/colab-badge.svg\" alt=\"Open In Colab\"/></a>"
      ]
    },
    {
      "cell_type": "code",
      "execution_count": null,
      "metadata": {
        "id": "5tqnF4dX6b61"
      },
      "outputs": [],
      "source": [
        "import pandas as pd\n",
        "\n",
        "dataset = pd.read_csv('breastcancer.csv')"
      ]
    },
    {
      "cell_type": "code",
      "source": [
        "x = dataset.drop(columns=['id','diagnosis','Unnamed: 32'])\n"
      ],
      "metadata": {
        "id": "Ysa_pbaN7N8b"
      },
      "execution_count": null,
      "outputs": []
    },
    {
      "cell_type": "code",
      "source": [
        "y = dataset[\"diagnosis\"]\n",
        "y = y.map(lambda x: 1 if x == 'M' else 0)\n"
      ],
      "metadata": {
        "id": "5XG6wWaU7mrC"
      },
      "execution_count": null,
      "outputs": []
    },
    {
      "cell_type": "code",
      "source": [
        "from sklearn.model_selection import train_test_split\n",
        "\n",
        "x_train, x_test, y_train, y_test = train_test_split(x, y, test_size=0.2)"
      ],
      "metadata": {
        "id": "tw2oIC997zJc"
      },
      "execution_count": null,
      "outputs": []
    },
    {
      "cell_type": "code",
      "source": [
        "import tensorflow as tf\n",
        "\n",
        "model = tf.keras.models.Sequential()"
      ],
      "metadata": {
        "id": "PsRH7aoc8YXV"
      },
      "execution_count": null,
      "outputs": []
    },
    {
      "cell_type": "code",
      "source": [
        "model.add(tf.keras.layers.Dense(512, input_shape=x_train.shape[1:], activation='sigmoid'))\n",
        "model.add(tf.keras.layers.Dense(512, activation='sigmoid'))\n",
        "model.add(tf.keras.layers.Dense(1, activation='sigmoid'))"
      ],
      "metadata": {
        "id": "Jr2H70288nQT"
      },
      "execution_count": null,
      "outputs": []
    },
    {
      "cell_type": "code",
      "source": [
        "model.compile(optimizer='adam', loss='binary_crossentropy', metrics=['accuracy'])"
      ],
      "metadata": {
        "id": "NWjP1jnU9b_Q"
      },
      "execution_count": null,
      "outputs": []
    },
    {
      "cell_type": "code",
      "source": [
        "model.fit(x_train, y_train, epochs=2000)"
      ],
      "metadata": {
        "id": "Ws3YOj5p9to2"
      },
      "execution_count": null,
      "outputs": []
    },
    {
      "cell_type": "code",
      "source": [
        "loss, accuracy = model.evaluate(x_test,y_test)\n",
        "print(\"Loss: \" , loss)\n",
        "print(\"Accuracy: \" , accuracy)"
      ],
      "metadata": {
        "colab": {
          "base_uri": "https://localhost:8080/"
        },
        "id": "lsuvpeah90Ee",
        "outputId": "e70a497b-63ea-4081-9dab-1012d983849d"
      },
      "execution_count": null,
      "outputs": [
        {
          "output_type": "stream",
          "name": "stdout",
          "text": [
            "4/4 [==============================] - 0s 6ms/step - loss: 0.1555 - accuracy: 0.9649\n",
            "Loss:  0.15550406277179718\n",
            "Accuracy:  0.9649122953414917\n"
          ]
        }
      ]
    },
    {
      "cell_type": "code",
      "source": [
        "import pandas as pd\n",
        "import numpy as np\n",
        "\n",
        "data = pd.read_csv(\"breastcancer.csv\")\n",
        "\n",
        "Elem = int(input(\"Hanyadik beteget akarod tesztelni ?\")) -1;\n",
        "\n",
        "first_row_features = data.iloc[Elem, 2:32]\n",
        "print(\"A beteg ID: \" , data.iloc[Elem][0])\n",
        "\n",
        "new_data_array = np.array(first_row_features, dtype=np.float32)\n",
        "\n",
        "new_data_array = new_data_array.reshape(1, -1)\n",
        "\n",
        "prediction = model.predict(new_data_array)\n",
        "\n",
        "predicted_class = prediction[0]\n",
        "\n",
        "if predicted_class > 0.5:\n",
        "    print(\"Predicted: Malignant\")\n",
        "else:\n",
        "    print(\"Predicted: Benign\")\n",
        "\n",
        "print(predicted_class)\n",
        "\n"
      ],
      "metadata": {
        "colab": {
          "base_uri": "https://localhost:8080/"
        },
        "id": "lQ6bruMgDPJr",
        "outputId": "8edf1e53-f041-48d0-b41a-05ac15c78101"
      },
      "execution_count": null,
      "outputs": [
        {
          "output_type": "stream",
          "name": "stdout",
          "text": [
            "Hanyadik beteget akarod tesztelni ?1\n",
            "A beteg ID:  842302\n",
            "1/1 [==============================] - 0s 25ms/step\n",
            "Predicted: Malignant\n",
            "[0.9997438]\n"
          ]
        }
      ]
    }
  ]
}